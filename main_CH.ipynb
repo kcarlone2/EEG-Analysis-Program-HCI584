{
 "cells": [
  {
   "cell_type": "code",
   "execution_count": null,
   "metadata": {},
   "outputs": [],
   "source": [
    "import pandas as pd\n",
    "import matplotlib.pyplot as plt\n",
    "\n",
    "class DataAnalyzer:\n",
    "    def __init__(self, file_path):\n",
    "        self.file_path = file_path\n",
    "        self.values_dict = None\n",
    "        self.lowest_dict = None\n",
    "        self.highest_dict = None\n",
    "        \n",
    "    def is_valid_file(self):\n",
    "        \"\"\"Returns True if the Excel file matches the required format, otherwise False\"\"\"\n",
    "        try:\n",
    "            # Read the Excel file and check if the required sheets exist\n",
    "            excel_data = pd.ExcelFile(self.file_path)\n",
    "        except Exception as e:\n",
    "            print(f\"Error: {e}\")\n",
    "            return False\n",
    "\n",
    "        required_sheets = ['Scalars', 'Sim Raw EEG']\n",
    "        for sheet in required_sheets:\n",
    "            if sheet not in excel_data.sheet_names:\n",
    "                print(f\"Required sheet '{sheet}' not found\")\n",
    "                return False\n",
    "        \n",
    "        # Check the 'Scalars' sheet for the number of rows and columns\n",
    "        scalars_sheet = pd.read_excel(self.file_path, sheet_name='Scalars')\n",
    "        num_rows, num_cols = scalars_sheet.shape\n",
    "        if num_rows != 192:\n",
    "            print(f\"Invalid number of rows in 'Scalars' sheet. Expected: 192, Actual: {num_rows}\")\n",
    "            return False\n",
    "        if num_cols < 3:\n",
    "            print(f\"Invalid number of columns in 'Scalars' sheet. Expected at least 3, Actual: {num_cols}\")\n",
    "            return False\n",
    "        \n",
    "        # Check the 'Sim Raw EEG' sheet for the presence of 'Pure Coherence' value\n",
    "        sim_raw_eeg_sheet = pd.read_excel(self.file_path, sheet_name='Sim Raw EEG')\n",
    "        if 'Pure Coherence' not in sim_raw_eeg_sheet.values:\n",
    "            print(\"'Pure Coherence' value not found in 'Sim Raw EEG' sheet\")\n",
    "            return False\n",
    "            \n",
    "        print(\"Everything checks out! You are clear to process the data!\")  # CH\n",
    "        return True\n",
    "  \n",
    "    def read_scalars(self, sheet_name_scalar):\n",
    "        # Read the Excel file and extract the desired sheet into a DataFrame \n",
    "        # CONSIDER reading excel file in once with the is valid function, and then just read the sheet in each function\n",
    "        df = pd.read_excel(self.file_path, sheet_name=sheet_name_scalar)\n",
    "        values_dict = {}\n",
    "        \n",
    "        # Iterate through the DataFrame and extract mean frequencies for each electrode site\n",
    "        for index, row in df.iterrows():\n",
    "            if row['Channel'] != '' and row['Value'].startswith('MEAN.'):\n",
    "                key = df.iloc[index, 0]  # Access the first column for channel name\n",
    "                value = df.iloc[index, 2]  # Access the second column for the value\n",
    "                values_dict[key] = value\n",
    "        \n",
    "        return values_dict\n",
    "           \n",
    "    def plot_mean_frequency(self, output_file=None):\n",
    "\n",
    "        if self.values_dict == None:\n",
    "            sheet_name_scalar = 'Scalars'\n",
    "            self.values_dict = self.read_scalars(sheet_name_scalar)\n",
    "\n",
    "        # Extract channel locations (x) and mean frequencies (y) from the dictionary\n",
    "        x = list(self.values_dict.keys())\n",
    "        y = list(self.values_dict.values())\n",
    "\n",
    "        # Plot a scatter plot of mean frequencies\n",
    "        plt.scatter(x, y)\n",
    "        plt.xlabel('Channel Location')\n",
    "        plt.ylabel('Frequency')\n",
    "        plt.title('Mean Frequency')\n",
    "        plt.xticks(rotation=90)\n",
    "\n",
    "        if output_file:\n",
    "            # Save the plot to the specified file\n",
    "            plt.savefig(output_file)\n",
    "            print(f\"Mean frequency plot saved to '{output_file}'\")\n",
    "\n",
    "        plt.show()\n",
    "    \n",
    "    def find_extreme_numbers(self, sheet_name='Sim Raw EEG', start_row=89, num_rows=21, num_cols=21):\n",
    "        # Read the Excel file and extract the desired table for pure coherence\n",
    "        df = pd.read_excel(self.file_path, sheet_name=sheet_name, header=None, skiprows=start_row-1, nrows=num_rows, usecols=range(num_cols))\n",
    "        df.columns = df.iloc[0]  # Use the first row as column names\n",
    "        df = df.iloc[1:]  # Skip the first row since it is now used as column names\n",
    "        df.set_index(df.columns[0], inplace=True)  # Set the first column as row index\n",
    "        df = df.apply(pd.to_numeric, errors='coerce')  # Convert non-numeric values to NaN\n",
    "\n",
    "        # Find the three lowest and three highest values\n",
    "        min_values = df.unstack().dropna().nsmallest(3)\n",
    "        max_values = df.unstack().dropna().nlargest(3)\n",
    "\n",
    "        # Store the lowest values and their corresponding locations in a dictionary\n",
    "        lowest_dict = {}\n",
    "        for idx, value in min_values.items():\n",
    "            row_header = idx[1]\n",
    "            col_header = idx[0]\n",
    "            lowest_dict[(row_header, col_header)] = value\n",
    "\n",
    "        # Store the highest values and their corresponding locations in a dictionary\n",
    "        highest_dict = {}\n",
    "        for idx, value in max_values.items():\n",
    "            row_header = idx[1]\n",
    "            col_header = idx[0]\n",
    "            highest_dict[(row_header, col_header)] = value\n",
    "\n",
    "        return lowest_dict, highest_dict\n",
    "    \n",
    "    def plot_extreme_numbers(self, output_file=None):\n",
    "\n",
    "        if self.lowest_dict == None or self.highest_dict == None:\n",
    "            self.lowest_dict, self.highest_dict = self.find_extreme_numbers()\n",
    "\n",
    "        # Extract the keys (column headers) and values from lowest_dict\n",
    "        lowest_keys = [str(key) for key in self.lowest_dict.keys()]   \n",
    "        lowest_values = list(self.lowest_dict.values())\n",
    "        \n",
    "        # Extract the keys (column headers) and values from highest_dict\n",
    "        highest_keys = [str(key) for key in self.highest_dict.keys()]\n",
    "        highest_values = list(self.highest_dict.values())\n",
    "\n",
    "        # Plot a bar graph of the lowest and highest values\n",
    "        plt.bar(lowest_keys, lowest_values, label='Lowest')\n",
    "        plt.bar(highest_keys, highest_values, label='Highest')\n",
    "\n",
    "        plt.xlabel('Columns')\n",
    "        plt.ylabel('Values')\n",
    "        plt.title('Lowest and Highest Values')\n",
    "        plt.legend()\n",
    "        plt.xticks(rotation=90)\n",
    "        \n",
    "        if output_file:\n",
    "            # Save the plot to the specified file\n",
    "            plt.savefig(output_file)\n",
    "            print(f\"Extreme numbers plot saved to '{output_file}'\")\n",
    "        \n",
    "        plt.show()\n",
    "        \n",
    "    def calculate_cz_theta_beta_ratio(self):\n",
    "        df = pd.read_excel(self.file_path, sheet_name=\"Band Ratios\")\n",
    "        \n",
    "        cz_row = df.loc[df['Channel'] == 'Cz']\n",
    "        if cz_row.empty:\n",
    "            print(\"CZ row not found in the Band Ratios sheet\")\n",
    "            return\n",
    "\n",
    "        theta_beta1_label = 'Theta1/Beta1'\n",
    "        theta_beta2_label = 'Theta2/Beta1'\n",
    "\n",
    "        try:\n",
    "            theta_beta1_value = float(cz_row[theta_beta1_label].iloc[0])\n",
    "            theta_beta2_value = float(cz_row[theta_beta2_label].iloc[0])\n",
    "            average_ratio = (theta_beta1_value + theta_beta2_value) / 2\n",
    "\n",
    "            print(\"CZ Theta/Beta Ratio:\", average_ratio)\n",
    "            if average_ratio > 2:\n",
    "                print(\"Dominance of slow-frequency activity - consistent with difficulty paying attention, \\n starting and finishing tasks, processing language for information and organizing.\\n Usually sleeps easily/heavily but may not feel rested. May wet the bed. Possibly low-energy, \\ndepressed, withdrawn.\")\n",
    "            elif average_ratio < 1.2:\n",
    "                print(\"Strong activation in both fast and slow frequencies - consistent with physical \\nrestlessness, sleep-onset insomnia, impulsivity and distractibility, tendency toward \\nirritability and/or anxiety, sometimes allergies or asthma\")\n",
    "            else:\n",
    "                print(\"Within normal range\")\n",
    "        except KeyError:\n",
    "            print(\"Invalid column label in the Band Ratios sheet\")"
   ]
  },
  {
   "cell_type": "code",
   "execution_count": 35,
   "metadata": {},
   "outputs": [
    {
     "data": {
      "application/vnd.jupyter.widget-view+json": {
       "model_id": "02c4635ccb1d4ce5a80d3ee0fca81557",
       "version_major": 2,
       "version_minor": 0
      },
      "text/plain": [
       "FileChooser(path='C:\\Users\\charding\\Box\\HCI584\\student_code\\EEG-Analysis-Program-HCI584', filename='', title='…"
      ]
     },
     "metadata": {},
     "output_type": "display_data"
    }
   ],
   "source": [
    "#from DataAnalyser import DataAnalyser\n",
    "from ipyfilechooser import FileChooser\n",
    "\n",
    "fc = FileChooser('.', filter_pattern=['*.xlsx', '*.xls'], title = '<b>Please Select data file</b>')\n",
    "display(fc)  # this has to be the last line in the cell, otherwise the dialog doesn't work"
   ]
  },
  {
   "cell_type": "code",
   "execution_count": 36,
   "metadata": {},
   "outputs": [
    {
     "name": "stdout",
     "output_type": "stream",
     "text": [
      "Selected file: C:\\Users\\charding\\Box\\HCI584\\student_code\\EEG-Analysis-Program-HCI584\\Analysis_EO_2022.10.17_13.00.34.xlsx\n",
      "Everything checks out! You are clear to process the data!\n"
     ]
    },
    {
     "data": {
      "text/plain": [
       "True"
      ]
     },
     "execution_count": 36,
     "metadata": {},
     "output_type": "execute_result"
    }
   ],
   "source": [
    "# Verify file path\n",
    "print(\"Selected file:\", fc.selected)\n",
    "analyzer = DataAnalyzer(fc.selected)\n",
    "analyzer.is_valid_file()  #"
   ]
  },
  {
   "cell_type": "code",
   "execution_count": 37,
   "metadata": {},
   "outputs": [
    {
     "name": "stdout",
     "output_type": "stream",
     "text": [
      "CZ Theta/Beta Ratio: 0.1402605\n",
      "Strong activation in both fast and slow frequencies - consistent with physical \n",
      "restlessness, sleep-onset insomnia, impulsivity and distractibility, tendency toward \n",
      "irritability and/or anxiety, sometimes allergies or asthma\n"
     ]
    }
   ],
   "source": [
    "analyzer.calculate_cz_theta_beta_ratio()"
   ]
  },
  {
   "cell_type": "code",
   "execution_count": 38,
   "metadata": {},
   "outputs": [
    {
     "name": "stdout",
     "output_type": "stream",
     "text": [
      "Mean frequency plot saved to 'mean_frequency_plot.png'\n"
     ]
    },
    {
     "data": {
      "image/png": "[encoded data removed]",
      "text/plain": [
       "<Figure size 432x288 with 1 Axes>"
      ]
     },
     "metadata": {
      "needs_background": "light"
     },
     "output_type": "display_data"
    }
   ],
   "source": [
    "# Plot mean frequency and save to file\n",
    "analyzer.plot_mean_frequency(output_file='mean_frequency_plot.png')"
   ]
  },
  {
   "cell_type": "code",
   "execution_count": 39,
   "metadata": {},
   "outputs": [
    {
     "name": "stdout",
     "output_type": "stream",
     "text": [
      "Extreme numbers plot saved to 'extreme_numbers_plot.pdf'\n"
     ]
    },
    {
     "data": {
      "image/png": "[encoded data removed]",
      "text/plain": [
       "<Figure size 432x288 with 1 Axes>"
      ]
     },
     "metadata": {
      "needs_background": "light"
     },
     "output_type": "display_data"
    }
   ],
   "source": [
    "# Plot extreme numbers and save to file\n",
    "analyzer.plot_extreme_numbers(output_file='extreme_numbers_plot.pdf')"
   ]
  }
 ],
 "metadata": {
  "kernelspec": {
   "display_name": "Python 3",
   "language": "python",
   "name": "python3"
  },
  "language_info": {
   "codemirror_mode": {
    "name": "ipython",
    "version": 3
   },
   "file_extension": ".py",
   "mimetype": "text/x-python",
   "name": "python",
   "nbconvert_exporter": "python",
   "pygments_lexer": "ipython3",
   "version": "3.10.9"
  },
  "orig_nbformat": 4
 },
 "nbformat": 4,
 "nbformat_minor": 2
}
